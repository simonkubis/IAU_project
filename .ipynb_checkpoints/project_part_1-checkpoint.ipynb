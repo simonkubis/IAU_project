{
 "cells": [
  {
   "cell_type": "markdown",
   "id": "e8e62960-1d88-485f-b0ef-6739504af0bd",
   "metadata": {},
   "source": [
    "<h2>Fáza 1 - Prieskumná analýza</h2>\n",
    "<p>Cieľom tejto fázy projektu je vykonať prieskumnú analýzu dát, ktorá nám umožní detailne preskúmať ich štruktúru, kvalitu a základné charakteristiky. Zameriame sa na opis dostupných atribútov, analýzu ich distribúcií a vzťahov, identifikáciu chýbajúcich alebo vychýlených hodnôt a overenie prvotných hypotéz o dátach. Výsledkom bude súhrnné zhodnotenie dát a pripravený podklad pre ďalšie spracovanie a budovanie predikčného modelu saturácie kyslíkom.</p>\n",
    "<h4>1.1 Základný opis dát spolu s ich charakteristikami</h4>\n"
   ]
  },
  {
   "cell_type": "code",
   "execution_count": 1,
   "id": "5ecf67a4-b614-46ef-8513-7b0ec0cd9e0a",
   "metadata": {},
   "outputs": [],
   "source": [
    "import pandas as pd"
   ]
  },
  {
   "cell_type": "code",
   "execution_count": 6,
   "id": "38fbc3aa-ba61-48ba-82ca-e67e0acdf395",
   "metadata": {},
   "outputs": [],
   "source": [
    "observation = pd.read_csv(\"047/observation.csv\", on_bad_lines='skip', sep=\"\\t\")\n",
    "patient = pd.read_csv(\"047/patient.csv\", on_bad_lines='skip', sep=\"\\t\")\n",
    "station = pd.read_csv(\"047/station.csv\", on_bad_lines='skip', sep=\"\\t\")"
   ]
  },
  {
   "cell_type": "code",
   "execution_count": 1,
   "id": "c7d0830c-65ed-4a5e-aaf0-4a9d60002da6",
   "metadata": {},
   "outputs": [
    {
     "ename": "NameError",
     "evalue": "name 'observation' is not defined",
     "output_type": "error",
     "traceback": [
      "\u001b[31m---------------------------------------------------------------------------\u001b[39m",
      "\u001b[31mNameError\u001b[39m                                 Traceback (most recent call last)",
      "\u001b[36mCell\u001b[39m\u001b[36m \u001b[39m\u001b[32mIn[1]\u001b[39m\u001b[32m, line 9\u001b[39m\n\u001b[32m      6\u001b[39m     \u001b[38;5;28mprint\u001b[39m(\u001b[33m\"\u001b[39m\u001b[33mMissing values per column:\u001b[39m\u001b[38;5;130;01m\\n\u001b[39;00m\u001b[33m\"\u001b[39m, df.isna().sum())\n\u001b[32m      7\u001b[39m     \u001b[38;5;28mprint\u001b[39m(\u001b[33m\"\u001b[39m\u001b[38;5;130;01m\\n\u001b[39;00m\u001b[33m\"\u001b[39m)\n\u001b[32m----> \u001b[39m\u001b[32m9\u001b[39m overview(\u001b[43mobservation\u001b[49m, \u001b[33m\"\u001b[39m\u001b[33mObservation\u001b[39m\u001b[33m\"\u001b[39m)\n\u001b[32m     10\u001b[39m overview(patient, \u001b[33m\"\u001b[39m\u001b[33mPatient\u001b[39m\u001b[33m\"\u001b[39m)\n\u001b[32m     11\u001b[39m overview(station, \u001b[33m\"\u001b[39m\u001b[33mStation\u001b[39m\u001b[33m\"\u001b[39m)\n",
      "\u001b[31mNameError\u001b[39m: name 'observation' is not defined"
     ]
    }
   ],
   "source": [
    "def overview(df, name):\n",
    "    print(f\"--- {name} ---\")\n",
    "    print(\"Shape (rows, columns):\", df.shape)\n",
    "    print(\"Columns and types:\\n\", df.dtypes)\n",
    "    print(\"First 5 rows:\\n\", df.head())\n",
    "    print(\"Missing values per column:\\n\", df.isna().sum())\n",
    "    print(\"\\n\")\n",
    "\n",
    "overview(observation, \"Observation\")\n",
    "overview(patient, \"Patient\")\n",
    "overview(station, \"Station\")"
   ]
  },
  {
   "cell_type": "markdown",
   "id": "51745a55-cf20-404d-815a-a94c89c79612",
   "metadata": {},
   "source": [
    "<p>Pri prvej kontrole dát sme analyzovali štruktúru a základné charakteristiky troch datasetov: Observation, Patient a Station.\n",
    "\n",
    "Dataset Observation obsahuje 12 140 záznamov a 23 atribútov, ktoré predstavujú rôzne fyziologické signály a senzorové hodnoty vrátane cieľovej premennej oximetry. Všetky stĺpce sú typu float64 a v dátach sa nevyskytujú žiadne chýbajúce hodnoty, čo zjednodušuje ich ďalšie spracovanie.\n",
    "\n",
    "Dataset Patient obsahuje 2 161 záznamov a 13 atribútov opisujúcich informácie o pacientoch vrátane identifikátorov, kontaktných údajov a priradenia ku konkrétnej stanici. Niektoré stĺpce, ako napr. current_location, residence a job, obsahujú chýbajúce hodnoty, ktoré bude potrebné riešiť pri čistení dát.\n",
    "\n",
    "Dataset Station pozostáva zo 739 záznamov a 6 atribútov, ktoré obsahujú geografickú polohu staníc, ich kód, názov, kvalitu služby (QoS) a revíziu. V tomto datasete sa nevyskytujú žiadne chýbajúce hodnoty.\n",
    "\n",
    "Z analýzy vyplýva, že Observation je dobre pripravený na ďalšie spracovanie, zatiaľ čo Patient bude vyžadovať doplnenie alebo úpravu chýbajúcich hodnôt. Dataset Station je kompletne vyplnený a pripravený na prípadné spojenie s ostatnými datasetmi podľa atribútu station_ID či geografickej polohy.\n",
    "</p>"
   ]
  },
  {
   "cell_type": "code",
   "execution_count": null,
   "id": "d79c3ce8-a4dd-43a7-b0a3-a3caa89b2862",
   "metadata": {},
   "outputs": [],
   "source": []
  }
 ],
 "metadata": {
  "kernelspec": {
   "display_name": "Python 3 (ipykernel)",
   "language": "python",
   "name": "python3"
  },
  "language_info": {
   "codemirror_mode": {
    "name": "ipython",
    "version": 3
   },
   "file_extension": ".py",
   "mimetype": "text/x-python",
   "name": "python",
   "nbconvert_exporter": "python",
   "pygments_lexer": "ipython3",
   "version": "3.11.0"
  }
 },
 "nbformat": 4,
 "nbformat_minor": 5
}
